{
 "cells": [
  {
   "cell_type": "markdown",
   "id": "c4d4bd0f",
   "metadata": {},
   "source": [
    "# Bertrand paradox\n",
    "What is the probability that a *random* chord on the unit circle is longer than $\\sqrt{3}$, the length of the side of an inscribed equilateral triangle?\n",
    "The answer depends on the distribution of the random chord, i.e. on the sampling mechanism..."
   ]
  },
  {
   "cell_type": "code",
   "execution_count": 1,
   "id": "e9a52624",
   "metadata": {},
   "outputs": [
    {
     "data": {
      "text/html": [
       "<style>.container { width:95% !important; } </style>"
      ],
      "text/plain": [
       "<IPython.core.display.HTML object>"
      ]
     },
     "metadata": {},
     "output_type": "display_data"
    }
   ],
   "source": [
    "from IPython.core.display import HTML\n",
    "display(HTML('<style>.container { width:95% !important; } </style>'))\n",
    "\n",
    "%load_ext autoreload\n",
    "%autoreload 2"
   ]
  },
  {
   "cell_type": "code",
   "execution_count": 2,
   "id": "e335123e",
   "metadata": {},
   "outputs": [],
   "source": [
    "import numpy as np\n",
    "from tqdm.notebook import tqdm\n",
    "\n",
    "\n",
    "SEED = 12345\n",
    "rng = np.random.default_rng(seed=SEED)"
   ]
  },
  {
   "cell_type": "code",
   "execution_count": 3,
   "id": "10dce478",
   "metadata": {},
   "outputs": [],
   "source": [
    "theta0 = 0\n",
    "theta1 = 2 * np.pi / 3\n",
    "theta2 = 4 * np.pi / 3\n",
    "\n",
    "\n",
    "def angle2coord(theta, r=1):\n",
    "    return np.array([r * np.cos(theta), r * np.sin(theta)])\n",
    "\n",
    "\n",
    "def unif_circle():\n",
    "    Theta = rng.uniform(0, 2*np.pi, size=1)\n",
    "    return angle2coord(Theta), Theta\n",
    "\n",
    "# Warning: to generate the uniform distribution on the disk (2D),\n",
    "# the radius should be sqrt of uniform.\n",
    "def unif_disk():\n",
    "    Theta = rng.uniform(0, 2*np.pi, size=1)\n",
    "    R = np.sqrt(rng.uniform(0, 1, size=1))\n",
    "    return angle2coord(Theta, R), R, Theta\n",
    "\n",
    "\n",
    "A0 = angle2coord(theta0)\n",
    "A1 = angle2coord(theta1)\n",
    "A2 = angle2coord(theta2)\n",
    "\n",
    "# Length of any side of the equilateral triangle A0A1A2 is sqrt(3)\n",
    "assert np.isclose(np.sum((A2 - A1) ** 2), 3)"
   ]
  },
  {
   "cell_type": "markdown",
   "id": "3652c208",
   "metadata": {},
   "source": [
    "## Random endpoints"
   ]
  },
  {
   "cell_type": "code",
   "execution_count": 4,
   "id": "5075238b",
   "metadata": {},
   "outputs": [
    {
     "data": {
      "application/vnd.jupyter.widget-view+json": {
       "model_id": "364a707b478349578f345978aa5bf70a",
       "version_major": 2,
       "version_minor": 0
      },
      "text/plain": [
       "  0%|          | 0/100000 [00:00<?, ?it/s]"
      ]
     },
     "metadata": {},
     "output_type": "display_data"
    },
    {
     "name": "stdout",
     "output_type": "stream",
     "text": [
      "33.2% +/- 0.3%\n"
     ]
    }
   ],
   "source": [
    "M = int(1e5)\n",
    "res = np.empty(M)\n",
    "\n",
    "for m in tqdm(range(M)):\n",
    "    Theta1, Theta2 = rng.uniform(0, 2*np.pi, size=2)\n",
    "    X1, _ = unif_circle() \n",
    "    X2, _ = unif_circle() \n",
    "    res[m] = np.sum((X2 - X1) ** 2) > 3\n",
    "    \n",
    "print(\"{:.1%} +/- {:.1%}\".format(res.mean(), 1.96 * res.std() / np.sqrt(M)))"
   ]
  },
  {
   "cell_type": "markdown",
   "id": "58f3d250",
   "metadata": {},
   "source": [
    "## Random midpoint"
   ]
  },
  {
   "cell_type": "code",
   "execution_count": 5,
   "id": "81ac9a67",
   "metadata": {},
   "outputs": [
    {
     "data": {
      "application/vnd.jupyter.widget-view+json": {
       "model_id": "93aa1d534e5140ffbb04bf4acedcd056",
       "version_major": 2,
       "version_minor": 0
      },
      "text/plain": [
       "  0%|          | 0/100000 [00:00<?, ?it/s]"
      ]
     },
     "metadata": {},
     "output_type": "display_data"
    },
    {
     "name": "stdout",
     "output_type": "stream",
     "text": [
      "24.9% +/- 0.3%\n"
     ]
    }
   ],
   "source": [
    "M = int(1e5)\n",
    "res = np.empty(M)\n",
    "\n",
    "for m in tqdm(range(M)):\n",
    "    X, R, Theta = unif_disk()\n",
    "    \n",
    "    # Endpoints of the unique chord for which X is the midpoint\n",
    "    Theta1 = Theta + np.arccos(R)\n",
    "    Theta2 = Theta - np.arccos(R)\n",
    "    X1, X2 = angle2coord(Theta1), angle2coord(Theta2)\n",
    "    res[m] = np.sum((X2 - X1) ** 2) > 3\n",
    "    \n",
    "print(\"{:.1%} +/- {:.1%}\".format(res.mean(), 1.96 * res.std() / np.sqrt(M)))"
   ]
  },
  {
   "cell_type": "code",
   "execution_count": null,
   "id": "4bfdcb09",
   "metadata": {},
   "outputs": [],
   "source": []
  }
 ],
 "metadata": {
  "kernelspec": {
   "display_name": "Python 3 (ipykernel)",
   "language": "python",
   "name": "python3"
  },
  "language_info": {
   "codemirror_mode": {
    "name": "ipython",
    "version": 3
   },
   "file_extension": ".py",
   "mimetype": "text/x-python",
   "name": "python",
   "nbconvert_exporter": "python",
   "pygments_lexer": "ipython3",
   "version": "3.9.12"
  }
 },
 "nbformat": 4,
 "nbformat_minor": 5
}
