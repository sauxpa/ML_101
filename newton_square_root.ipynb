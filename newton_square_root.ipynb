{
 "cells": [
  {
   "cell_type": "code",
   "execution_count": 1,
   "id": "0d6f954f",
   "metadata": {},
   "outputs": [
    {
     "data": {
      "text/html": [
       "<style>.container { width:95% !important; } </style>"
      ],
      "text/plain": [
       "<IPython.core.display.HTML object>"
      ]
     },
     "metadata": {},
     "output_type": "display_data"
    }
   ],
   "source": [
    "from IPython.core.display import HTML\n",
    "display(HTML('<style>.container { width:95% !important; } </style>'))\n",
    "\n",
    "%load_ext autoreload\n",
    "%autoreload 2"
   ]
  },
  {
   "cell_type": "code",
   "execution_count": 2,
   "id": "39ad7ad0",
   "metadata": {},
   "outputs": [],
   "source": [
    "import numpy as np\n",
    "import matplotlib.pyplot as plt\n",
    "import seaborn as sns\n",
    "from tqdm.notebook import tqdm"
   ]
  },
  {
   "cell_type": "markdown",
   "id": "2f88b77f",
   "metadata": {},
   "source": [
    "## Newton's method\n",
    "\n",
    "Given a function $f\\colon \\mathbb{R} \\rightarrow \\mathbb{R}$ and a starting point $x$, we are looking to update $x$ to $x+\\Delta x$ so that $f(x+\\Delta x)\\approx 0$.\n",
    "Assuming $f$ is continuously differentiable, we obtain:\n",
    "$$\n",
    "f(x+\\Delta x) \\approx 0 \\approx f(x) + f'(x) \\Delta x,\n",
    "$$\n",
    "which suggests to consider the recursive sequence:\n",
    "$$\n",
    "x_{n+1} = x_n - \\frac{f(x_n)}{f'(x_n)}\\,.\n",
    "$$\n",
    "\n",
    "Let $x^\\star$ be the zero of $f$ (for simplicity we assume there is only one zero -- otherwise, we go down the dynamical systems rabbit hole...).\n",
    "Assuming $f$ is twice continuously diffrentiable, we obtain, for some $\\xi_{n}\\in (x^\\star, x_{n})$:\n",
    "\\begin{align}\n",
    "0 = f(x^\\star) &= f(x_{n}) + f'(x_n) (x^\\star - x_n) + \\frac{1}{2}f''(\\xi_{n}) (x^\\star - x_n)^2\\\\\n",
    "&= f(x_{n}) + f'(x_n) (x^\\star - x_{n+1} - \\frac{f(x_n)}{f'(x_n)}) + \\frac{1}{2}f''(\\xi_{n}) (x^\\star - x_n)^2\\\\\n",
    "&= f'(x_n) (x^\\star - x_{n+1}) + \\frac{1}{2}f''(\\xi_{n}) (x^\\star - x_n)^2\\,.\n",
    "\\end{align}\n",
    "Finally, assuming $f'$ is \n",
    "$$\n",
    "\\lvert x^\\star - x_{n+1} \\rvert =  \\frac{ \\lvert f''(\\xi_n) \\rvert}{2 \\lvert f'(x_n)\\rvert} \\lvert x^\\star - x_n \\rvert^2\\,.\n",
    "$$\n",
    "By continuity, $f'(x_n)\\rightarrow f'(x^\\star)$ and $f''(\\xi_n)\\rightarrow f''(x^\\star)$. Assuming that $f'(x^\\star) != 0$, we obtain the following quadratic convergence:  \n",
    "$$\n",
    "\\lvert x^\\star - x_{n+1} \\rvert \\leq  M \\lvert x^\\star - x_n \\rvert^2\\,.\n",
    "$$\n",
    "for some $M>\\frac{ \\lvert f''(x^\\star) \\rvert}{2 \\lvert f'(x^\\star)\\rvert}$ and $n$ large enough.\n",
    "\n",
    "<br>\n",
    "\n",
    "### Application to square root finding\n",
    "Let $a\\in\\mathbb{R}^\\star_+$ and $f\\colon x\\in\\mathbb{R}^\\star_+ \\mapsto x^2 - a$.\n",
    "Instantiating the above sequence to this function yields:\n",
    "$$\n",
    "x_{n+1} = x_n - \\frac{x_n^2 - a}{2 x_n} = \\frac{x_n}{2} + \\frac{a}{2x_n}\\,.\n",
    "$$\n",
    "Note that $x^\\star = \\sqrt{a}$, $f'(x^\\star)=2\\sqrt{a}>0$ and $f''(x^\\star) = 2$."
   ]
  },
  {
   "cell_type": "code",
   "execution_count": 3,
   "id": "6ea47c61",
   "metadata": {},
   "outputs": [],
   "source": [
    "def sqrt(a: float, tol: float):\n",
    "    assert a > 0\n",
    "    if a == 1:\n",
    "        return 1.\n",
    "    elif a < 1:\n",
    "        return 1 / sqrt(1 / a, precision)\n",
    "    else:\n",
    "        x1 = a / 2\n",
    "        x2 = x1 / 2 + a / (2 * x1)\n",
    "        while np.abs(x2 - x1) > tol:\n",
    "            x1 = x2\n",
    "            x2 = x1 / 2 + a / (2 * x1)\n",
    "        return x2"
   ]
  },
  {
   "cell_type": "code",
   "execution_count": 4,
   "id": "d7e3abcb",
   "metadata": {},
   "outputs": [
    {
     "data": {
      "text/plain": [
       "1.414213562373095"
      ]
     },
     "execution_count": 4,
     "metadata": {},
     "output_type": "execute_result"
    }
   ],
   "source": [
    "sqrt(2, 1e-6)"
   ]
  },
  {
   "cell_type": "code",
   "execution_count": null,
   "id": "28b03d09",
   "metadata": {},
   "outputs": [],
   "source": []
  }
 ],
 "metadata": {
  "kernelspec": {
   "display_name": "Python 3 (ipykernel)",
   "language": "python",
   "name": "python3"
  },
  "language_info": {
   "codemirror_mode": {
    "name": "ipython",
    "version": 3
   },
   "file_extension": ".py",
   "mimetype": "text/x-python",
   "name": "python",
   "nbconvert_exporter": "python",
   "pygments_lexer": "ipython3",
   "version": "3.9.12"
  }
 },
 "nbformat": 4,
 "nbformat_minor": 5
}
